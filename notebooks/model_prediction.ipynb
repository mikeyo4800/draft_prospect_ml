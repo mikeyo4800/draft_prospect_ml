{
 "cells": [
  {
   "cell_type": "markdown",
   "metadata": {
    "ExecuteTime": {
     "end_time": "2022-04-22T17:30:51.197781Z",
     "start_time": "2022-04-22T17:30:50.259031Z"
    }
   },
   "source": [
    "# Model Predictions and Pickling\n",
    "\n",
    "In this file, we put our model to test and predict whether players in the upcoming draft are destined to be in round 1 or round two of the nba draft"
   ]
  },
  {
   "cell_type": "code",
   "execution_count": null,
   "metadata": {
    "vscode": {
     "languageId": "python"
    }
   },
   "outputs": [
    {
     "ename": "",
     "evalue": "",
     "output_type": "error",
     "traceback": [
      "\u001b[1;31mThe kernel failed to start as a dll could not be loaded.\n",
      "Click <a href='https://aka.ms/kernelFailuresDllLoad'>here</a> for more info."
     ]
    }
   ],
   "source": [
    "# Importing necessary modules\n",
    "\n",
    "import pandas as pd\n",
    "import numpy as np\n",
    "from sklearn.model_selection import train_test_split, cross_val_score\n",
    "from sklearn.linear_model import LogisticRegression\n",
    "from sklearn.tree import DecisionTreeClassifier\n",
    "from sklearn.ensemble import RandomForestClassifier\n",
    "from sklearn.metrics import plot_confusion_matrix, accuracy_score, precision_score, mean_squared_error\n",
    "from sklearn.neighbors import KNeighborsClassifier\n",
    "from sklearn.preprocessing import MinMaxScaler, Normalizer, StandardScaler"
   ]
  },
  {
   "cell_type": "code",
   "execution_count": 2,
   "metadata": {
    "ExecuteTime": {
     "end_time": "2022-04-22T17:30:51.587060Z",
     "start_time": "2022-04-22T17:30:51.568335Z"
    },
    "vscode": {
     "languageId": "python"
    }
   },
   "outputs": [],
   "source": [
    "data = pd.read_csv('data/cleaned_data.csv')"
   ]
  },
  {
   "cell_type": "code",
   "execution_count": 3,
   "metadata": {
    "ExecuteTime": {
     "end_time": "2022-04-22T17:30:52.221097Z",
     "start_time": "2022-04-22T17:30:52.213095Z"
    },
    "vscode": {
     "languageId": "python"
    }
   },
   "outputs": [],
   "source": [
    "data.drop(columns=['Unnamed: 0'], inplace=True)"
   ]
  },
  {
   "cell_type": "code",
   "execution_count": 4,
   "metadata": {
    "ExecuteTime": {
     "end_time": "2022-04-22T17:30:52.729136Z",
     "start_time": "2022-04-22T17:30:52.718644Z"
    },
    "vscode": {
     "languageId": "python"
    }
   },
   "outputs": [],
   "source": [
    "#importing necessary modules\n",
    "from sklearn.pipeline import Pipeline\n",
    "from sklearn.ensemble import StackingClassifier\n",
    "from sklearn.preprocessing import OneHotEncoder\n",
    "from sklearn.compose import ColumnTransformer"
   ]
  },
  {
   "cell_type": "code",
   "execution_count": 5,
   "metadata": {
    "ExecuteTime": {
     "end_time": "2022-04-22T17:30:53.242521Z",
     "start_time": "2022-04-22T17:30:53.224868Z"
    },
    "vscode": {
     "languageId": "python"
    }
   },
   "outputs": [],
   "source": [
    "#training and testing data\n",
    "\n",
    "sel_cols = ['Rec Rank', 'dbpm', 'obpm', 'bpm', 'stops', 'dporpag', 'porpag', 'ftr', \n",
    "'stl_per', 'FTA', 'ORB_per', 'yr', 'AFFILIATION', 'conf', 'Class']\n",
    "\n",
    "df = data.loc[:, sel_cols].copy()\n",
    "\n",
    "X = df.drop(columns='Class', axis=1)\n",
    "y = df.Class\n",
    "\n",
    "X_train, X_test, y_train, y_test = train_test_split(X, y, test_size=0.25, random_state=42)"
   ]
  },
  {
   "cell_type": "code",
   "execution_count": 6,
   "metadata": {
    "ExecuteTime": {
     "end_time": "2022-04-22T17:30:53.888868Z",
     "start_time": "2022-04-22T17:30:53.856618Z"
    },
    "vscode": {
     "languageId": "python"
    }
   },
   "outputs": [
    {
     "data": {
      "text/html": [
       "<div>\n",
       "<style scoped>\n",
       "    .dataframe tbody tr th:only-of-type {\n",
       "        vertical-align: middle;\n",
       "    }\n",
       "\n",
       "    .dataframe tbody tr th {\n",
       "        vertical-align: top;\n",
       "    }\n",
       "\n",
       "    .dataframe thead th {\n",
       "        text-align: right;\n",
       "    }\n",
       "</style>\n",
       "<table border=\"1\" class=\"dataframe\">\n",
       "  <thead>\n",
       "    <tr style=\"text-align: right;\">\n",
       "      <th></th>\n",
       "      <th>Rec Rank</th>\n",
       "      <th>dbpm</th>\n",
       "      <th>obpm</th>\n",
       "      <th>bpm</th>\n",
       "      <th>stops</th>\n",
       "      <th>dporpag</th>\n",
       "      <th>porpag</th>\n",
       "      <th>ftr</th>\n",
       "      <th>stl_per</th>\n",
       "      <th>FTA</th>\n",
       "      <th>ORB_per</th>\n",
       "      <th>yr</th>\n",
       "      <th>AFFILIATION</th>\n",
       "      <th>conf</th>\n",
       "      <th>Class</th>\n",
       "    </tr>\n",
       "  </thead>\n",
       "  <tbody>\n",
       "    <tr>\n",
       "      <th>0</th>\n",
       "      <td>100.0</td>\n",
       "      <td>3.08975</td>\n",
       "      <td>3.19980</td>\n",
       "      <td>6.28955</td>\n",
       "      <td>207.722</td>\n",
       "      <td>4.47388</td>\n",
       "      <td>4.33352</td>\n",
       "      <td>38.9</td>\n",
       "      <td>2.5</td>\n",
       "      <td>156</td>\n",
       "      <td>2.3</td>\n",
       "      <td>Fr</td>\n",
       "      <td>Oklahoma State</td>\n",
       "      <td>B12</td>\n",
       "      <td>1</td>\n",
       "    </tr>\n",
       "    <tr>\n",
       "      <th>1</th>\n",
       "      <td>99.6</td>\n",
       "      <td>7.46638</td>\n",
       "      <td>5.53482</td>\n",
       "      <td>13.00120</td>\n",
       "      <td>256.359</td>\n",
       "      <td>5.00113</td>\n",
       "      <td>5.41065</td>\n",
       "      <td>56.6</td>\n",
       "      <td>1.4</td>\n",
       "      <td>193</td>\n",
       "      <td>9.7</td>\n",
       "      <td>Fr</td>\n",
       "      <td>Southern California</td>\n",
       "      <td>P12</td>\n",
       "      <td>1</td>\n",
       "    </tr>\n",
       "    <tr>\n",
       "      <th>2</th>\n",
       "      <td>99.0</td>\n",
       "      <td>3.32516</td>\n",
       "      <td>4.94571</td>\n",
       "      <td>8.27087</td>\n",
       "      <td>119.770</td>\n",
       "      <td>3.00240</td>\n",
       "      <td>2.97007</td>\n",
       "      <td>33.8</td>\n",
       "      <td>3.4</td>\n",
       "      <td>66</td>\n",
       "      <td>7.4</td>\n",
       "      <td>Fr</td>\n",
       "      <td>Florida State</td>\n",
       "      <td>ACC</td>\n",
       "      <td>1</td>\n",
       "    </tr>\n",
       "    <tr>\n",
       "      <th>3</th>\n",
       "      <td>98.2</td>\n",
       "      <td>4.47315</td>\n",
       "      <td>4.85317</td>\n",
       "      <td>9.32632</td>\n",
       "      <td>209.261</td>\n",
       "      <td>4.13889</td>\n",
       "      <td>3.79887</td>\n",
       "      <td>37.1</td>\n",
       "      <td>3.5</td>\n",
       "      <td>114</td>\n",
       "      <td>2.7</td>\n",
       "      <td>Fr</td>\n",
       "      <td>Gonzaga</td>\n",
       "      <td>WCC</td>\n",
       "      <td>1</td>\n",
       "    </tr>\n",
       "    <tr>\n",
       "      <th>4</th>\n",
       "      <td>90.2</td>\n",
       "      <td>3.22572</td>\n",
       "      <td>2.63123</td>\n",
       "      <td>5.85695</td>\n",
       "      <td>171.133</td>\n",
       "      <td>4.12090</td>\n",
       "      <td>2.56112</td>\n",
       "      <td>21.6</td>\n",
       "      <td>2.4</td>\n",
       "      <td>54</td>\n",
       "      <td>3.4</td>\n",
       "      <td>Fr</td>\n",
       "      <td>Michigan</td>\n",
       "      <td>B10</td>\n",
       "      <td>1</td>\n",
       "    </tr>\n",
       "  </tbody>\n",
       "</table>\n",
       "</div>"
      ],
      "text/plain": [
       "   Rec Rank     dbpm     obpm       bpm    stops  dporpag   porpag   ftr  \\\n",
       "0     100.0  3.08975  3.19980   6.28955  207.722  4.47388  4.33352  38.9   \n",
       "1      99.6  7.46638  5.53482  13.00120  256.359  5.00113  5.41065  56.6   \n",
       "2      99.0  3.32516  4.94571   8.27087  119.770  3.00240  2.97007  33.8   \n",
       "3      98.2  4.47315  4.85317   9.32632  209.261  4.13889  3.79887  37.1   \n",
       "4      90.2  3.22572  2.63123   5.85695  171.133  4.12090  2.56112  21.6   \n",
       "\n",
       "   stl_per  FTA  ORB_per  yr          AFFILIATION conf  Class  \n",
       "0      2.5  156      2.3  Fr       Oklahoma State  B12      1  \n",
       "1      1.4  193      9.7  Fr  Southern California  P12      1  \n",
       "2      3.4   66      7.4  Fr        Florida State  ACC      1  \n",
       "3      3.5  114      2.7  Fr              Gonzaga  WCC      1  \n",
       "4      2.4   54      3.4  Fr             Michigan  B10      1  "
      ]
     },
     "execution_count": 6,
     "metadata": {},
     "output_type": "execute_result"
    }
   ],
   "source": [
    "df.head()"
   ]
  },
  {
   "cell_type": "code",
   "execution_count": 7,
   "metadata": {
    "ExecuteTime": {
     "end_time": "2022-04-22T17:30:54.484090Z",
     "start_time": "2022-04-22T17:30:54.464203Z"
    },
    "vscode": {
     "languageId": "python"
    }
   },
   "outputs": [],
   "source": [
    "#pipelines and column transformer\n",
    "from sklearn.impute import SimpleImputer\n",
    "\n",
    "numeric_pipeline = Pipeline([('numimputer', SimpleImputer(strategy = 'mean')), ('numnorm', StandardScaler())])\n",
    "nominal_pipeline = Pipeline([\n",
    "    ('onehotimputer', SimpleImputer(strategy = 'most_frequent')),\n",
    "    ('onehotenc', OneHotEncoder(sparse = False, handle_unknown='ignore')), \n",
    "    ('onehotscale', StandardScaler())])\n",
    "\n",
    "num_cols = X_train.select_dtypes(['int', 'float']).columns\n",
    "ct = ColumnTransformer([('one_hot', nominal_pipeline, ['yr', 'AFFILIATION', 'conf']),\n",
    "('num_transform', numeric_pipeline, num_cols)])\n"
   ]
  },
  {
   "cell_type": "code",
   "execution_count": 8,
   "metadata": {
    "ExecuteTime": {
     "end_time": "2022-04-22T17:30:55.532913Z",
     "start_time": "2022-04-22T17:30:55.522793Z"
    },
    "vscode": {
     "languageId": "python"
    }
   },
   "outputs": [],
   "source": [
    "from sklearn.ensemble import GradientBoostingClassifier\n",
    "\n",
    "pipe_gbc = Pipeline([('preprocess', ct), ('model', GradientBoostingClassifier(learning_rate=1, max_depth=9, n_estimators=300, subsample=1))])\n"
   ]
  },
  {
   "cell_type": "code",
   "execution_count": 9,
   "metadata": {
    "ExecuteTime": {
     "end_time": "2022-04-22T17:31:08.010966Z",
     "start_time": "2022-04-22T17:30:56.998327Z"
    },
    "vscode": {
     "languageId": "python"
    }
   },
   "outputs": [
    {
     "data": {
      "text/plain": [
       "Pipeline(steps=[('preprocess',\n",
       "                 ColumnTransformer(transformers=[('one_hot',\n",
       "                                                  Pipeline(steps=[('onehotimputer',\n",
       "                                                                   SimpleImputer(strategy='most_frequent')),\n",
       "                                                                  ('onehotenc',\n",
       "                                                                   OneHotEncoder(handle_unknown='ignore',\n",
       "                                                                                 sparse=False)),\n",
       "                                                                  ('onehotscale',\n",
       "                                                                   StandardScaler())]),\n",
       "                                                  ['yr', 'AFFILIATION',\n",
       "                                                   'conf']),\n",
       "                                                 ('num_transform',\n",
       "                                                  Pipeline(steps=[('numimputer',\n",
       "                                                                   SimpleImputer()),\n",
       "                                                                  ('numnorm',\n",
       "                                                                   StandardScaler())]),\n",
       "                                                  Index(['Rec Rank', 'dbpm', 'obpm', 'bpm', 'stops', 'dporpag', 'porpag', 'ftr',\n",
       "       'stl_per', 'ORB_per'],\n",
       "      dtype='object'))])),\n",
       "                ('model',\n",
       "                 GradientBoostingClassifier(learning_rate=1, max_depth=9,\n",
       "                                            n_estimators=300, subsample=1))])"
      ]
     },
     "execution_count": 9,
     "metadata": {},
     "output_type": "execute_result"
    }
   ],
   "source": [
    "pipe_gbc.fit(X_train, y_train)"
   ]
  },
  {
   "cell_type": "code",
   "execution_count": 22,
   "metadata": {
    "ExecuteTime": {
     "end_time": "2022-04-22T17:32:59.337266Z",
     "start_time": "2022-04-22T17:32:59.262880Z"
    },
    "vscode": {
     "languageId": "python"
    }
   },
   "outputs": [],
   "source": [
    "import joblib\n",
    "import numpy as np\n",
    "\n",
    "with open('model.pkl', 'wb') as f:\n",
    "    joblib.dump(pipe_gbc, f)"
   ]
  },
  {
   "cell_type": "code",
   "execution_count": 23,
   "metadata": {
    "ExecuteTime": {
     "end_time": "2022-04-22T17:33:04.010807Z",
     "start_time": "2022-04-22T17:33:03.997313Z"
    },
    "vscode": {
     "languageId": "python"
    }
   },
   "outputs": [],
   "source": [
    "def round_prediction(name, rec_rank, dbpm, obpm, bpm, stops, dporgag, porpag, ftr, stl_per, FTA, ORB_per, yr, team, conference):\n",
    "    \"\"\"\n",
    "    Given name, rec_rank, dbpm, obpm, bpm, stops, dporgag, porpag, ftr, stl_per, FTA, ORB_per, yr, team, conference,\n",
    "    predict the class of draft rounds\n",
    "    \"\"\"\n",
    "    # Load the model from the file\n",
    "    with open(\"model.pkl\", \"rb\") as f:\n",
    "        model = joblib.load(f)\n",
    "    # Construct the 2D matrix of values that .predict is expecting\n",
    "    # Get a list of predictions and select only 1st\n",
    "    X = {'Rec Rank': [rec_rank], 'dbpm': [dbpm], 'obpm': [obpm], 'bpm': [bpm], 'stops': [stops], 'dporpag': [dporgag], \n",
    "    'porpag': [porpag], 'ftr': [ftr], 'stl_per': [stl_per], 'FTA': [FTA], 'ORB_per': [ORB_per], 'yr': [yr], 'AFFILIATION': [team], 'conf': [conference]}\n",
    "    X_data = pd.DataFrame(data=X)\n",
    "\n",
    "    predictions = model.predict(X_data)\n",
    "    prediction = predictions[0]\n",
    "\n",
    "    return {'Player': name, \"predicted_class\": prediction}"
   ]
  },
  {
   "cell_type": "code",
   "execution_count": 14,
   "metadata": {
    "ExecuteTime": {
     "end_time": "2022-04-22T17:31:29.824957Z",
     "start_time": "2022-04-22T17:31:29.813211Z"
    },
    "vscode": {
     "languageId": "python"
    }
   },
   "outputs": [],
   "source": [
    "lst = list(X_test.columns)\n",
    "lst.append('player_name')\n",
    "lst.append('ROUND')"
   ]
  },
  {
   "cell_type": "code",
   "execution_count": null,
   "metadata": {
    "ExecuteTime": {
     "end_time": "2022-04-22T17:31:10.896196Z",
     "start_time": "2022-04-22T17:31:08.247Z"
    },
    "vscode": {
     "languageId": "python"
    }
   },
   "outputs": [],
   "source": [
    "test = data_names.loc[:, lst]"
   ]
  },
  {
   "cell_type": "code",
   "execution_count": null,
   "metadata": {
    "ExecuteTime": {
     "end_time": "2022-04-22T17:31:10.908151Z",
     "start_time": "2022-04-22T17:31:09.133Z"
    },
    "vscode": {
     "languageId": "python"
    }
   },
   "outputs": [],
   "source": [
    "X_train, X_test, y_train, y_test = train_test_split(test, test.ROUND)"
   ]
  },
  {
   "cell_type": "code",
   "execution_count": 17,
   "metadata": {
    "ExecuteTime": {
     "end_time": "2022-04-22T17:32:16.310851Z",
     "start_time": "2022-04-22T17:32:16.164658Z"
    },
    "vscode": {
     "languageId": "python"
    }
   },
   "outputs": [
    {
     "data": {
      "text/html": [
       "<div>\n",
       "<style scoped>\n",
       "    .dataframe tbody tr th:only-of-type {\n",
       "        vertical-align: middle;\n",
       "    }\n",
       "\n",
       "    .dataframe tbody tr th {\n",
       "        vertical-align: top;\n",
       "    }\n",
       "\n",
       "    .dataframe thead th {\n",
       "        text-align: right;\n",
       "    }\n",
       "</style>\n",
       "<table border=\"1\" class=\"dataframe\">\n",
       "  <thead>\n",
       "    <tr style=\"text-align: right;\">\n",
       "      <th></th>\n",
       "      <th>player_name</th>\n",
       "      <th>team</th>\n",
       "      <th>conf</th>\n",
       "      <th>GP</th>\n",
       "      <th>Min_per</th>\n",
       "      <th>Ortg</th>\n",
       "      <th>usg</th>\n",
       "      <th>eFG</th>\n",
       "      <th>TS_per</th>\n",
       "      <th>ORB_per</th>\n",
       "      <th>...</th>\n",
       "      <th>dgbpm</th>\n",
       "      <th>oreb</th>\n",
       "      <th>dreb</th>\n",
       "      <th>treb</th>\n",
       "      <th>ast</th>\n",
       "      <th>stl</th>\n",
       "      <th>blk</th>\n",
       "      <th>pts</th>\n",
       "      <th>Unnamed: 64</th>\n",
       "      <th>Unnamed: 65</th>\n",
       "    </tr>\n",
       "  </thead>\n",
       "  <tbody>\n",
       "    <tr>\n",
       "      <th>0</th>\n",
       "      <td>Isaiah Felder</td>\n",
       "      <td>South Carolina St.</td>\n",
       "      <td>MEAC</td>\n",
       "      <td>11</td>\n",
       "      <td>17.6</td>\n",
       "      <td>61.1</td>\n",
       "      <td>18.6</td>\n",
       "      <td>34.7</td>\n",
       "      <td>35.18</td>\n",
       "      <td>2.5</td>\n",
       "      <td>...</td>\n",
       "      <td>-4.412530</td>\n",
       "      <td>0.2727</td>\n",
       "      <td>1.4545</td>\n",
       "      <td>1.7273</td>\n",
       "      <td>0.4545</td>\n",
       "      <td>0.1818</td>\n",
       "      <td>0.0000</td>\n",
       "      <td>2.3636</td>\n",
       "      <td>Wing G</td>\n",
       "      <td>12.226400</td>\n",
       "    </tr>\n",
       "    <tr>\n",
       "      <th>1</th>\n",
       "      <td>Jalen Coleman-Lands</td>\n",
       "      <td>Kansas</td>\n",
       "      <td>B12</td>\n",
       "      <td>23</td>\n",
       "      <td>78.5</td>\n",
       "      <td>103.1</td>\n",
       "      <td>21.5</td>\n",
       "      <td>54.0</td>\n",
       "      <td>56.12</td>\n",
       "      <td>3.6</td>\n",
       "      <td>...</td>\n",
       "      <td>-1.019000</td>\n",
       "      <td>1.0435</td>\n",
       "      <td>2.8696</td>\n",
       "      <td>3.9130</td>\n",
       "      <td>1.1739</td>\n",
       "      <td>0.8261</td>\n",
       "      <td>0.0870</td>\n",
       "      <td>14.3043</td>\n",
       "      <td>Wing G</td>\n",
       "      <td>11.095900</td>\n",
       "    </tr>\n",
       "    <tr>\n",
       "      <th>2</th>\n",
       "      <td>K.J. Walton</td>\n",
       "      <td>Akron</td>\n",
       "      <td>MAC</td>\n",
       "      <td>20</td>\n",
       "      <td>63.0</td>\n",
       "      <td>108.6</td>\n",
       "      <td>26.5</td>\n",
       "      <td>54.3</td>\n",
       "      <td>58.88</td>\n",
       "      <td>9.1</td>\n",
       "      <td>...</td>\n",
       "      <td>-0.335789</td>\n",
       "      <td>2.3500</td>\n",
       "      <td>3.5500</td>\n",
       "      <td>5.9000</td>\n",
       "      <td>1.1500</td>\n",
       "      <td>1.2500</td>\n",
       "      <td>0.2000</td>\n",
       "      <td>16.3500</td>\n",
       "      <td>Wing G</td>\n",
       "      <td>0.284581</td>\n",
       "    </tr>\n",
       "    <tr>\n",
       "      <th>3</th>\n",
       "      <td>Jeriah Horne</td>\n",
       "      <td>Tulsa</td>\n",
       "      <td>Amer</td>\n",
       "      <td>32</td>\n",
       "      <td>61.3</td>\n",
       "      <td>116.0</td>\n",
       "      <td>20.8</td>\n",
       "      <td>55.2</td>\n",
       "      <td>58.61</td>\n",
       "      <td>5.8</td>\n",
       "      <td>...</td>\n",
       "      <td>1.721580</td>\n",
       "      <td>1.1250</td>\n",
       "      <td>4.7188</td>\n",
       "      <td>5.8438</td>\n",
       "      <td>0.9062</td>\n",
       "      <td>0.5938</td>\n",
       "      <td>0.0625</td>\n",
       "      <td>10.8125</td>\n",
       "      <td>Stretch 4</td>\n",
       "      <td>10.140700</td>\n",
       "    </tr>\n",
       "    <tr>\n",
       "      <th>4</th>\n",
       "      <td>Eric Curry</td>\n",
       "      <td>Minnesota</td>\n",
       "      <td>B10</td>\n",
       "      <td>29</td>\n",
       "      <td>39.2</td>\n",
       "      <td>95.1</td>\n",
       "      <td>14.7</td>\n",
       "      <td>46.3</td>\n",
       "      <td>48.72</td>\n",
       "      <td>7.0</td>\n",
       "      <td>...</td>\n",
       "      <td>2.746770</td>\n",
       "      <td>1.1034</td>\n",
       "      <td>1.9655</td>\n",
       "      <td>3.0690</td>\n",
       "      <td>0.8276</td>\n",
       "      <td>0.8276</td>\n",
       "      <td>0.2414</td>\n",
       "      <td>3.6552</td>\n",
       "      <td>Wing F</td>\n",
       "      <td>2.562430</td>\n",
       "    </tr>\n",
       "    <tr>\n",
       "      <th>...</th>\n",
       "      <td>...</td>\n",
       "      <td>...</td>\n",
       "      <td>...</td>\n",
       "      <td>...</td>\n",
       "      <td>...</td>\n",
       "      <td>...</td>\n",
       "      <td>...</td>\n",
       "      <td>...</td>\n",
       "      <td>...</td>\n",
       "      <td>...</td>\n",
       "      <td>...</td>\n",
       "      <td>...</td>\n",
       "      <td>...</td>\n",
       "      <td>...</td>\n",
       "      <td>...</td>\n",
       "      <td>...</td>\n",
       "      <td>...</td>\n",
       "      <td>...</td>\n",
       "      <td>...</td>\n",
       "      <td>...</td>\n",
       "      <td>...</td>\n",
       "    </tr>\n",
       "    <tr>\n",
       "      <th>3973</th>\n",
       "      <td>Aquan Smart</td>\n",
       "      <td>FIU</td>\n",
       "      <td>CUSA</td>\n",
       "      <td>21</td>\n",
       "      <td>11.7</td>\n",
       "      <td>69.4</td>\n",
       "      <td>17.7</td>\n",
       "      <td>32.1</td>\n",
       "      <td>36.08</td>\n",
       "      <td>1.8</td>\n",
       "      <td>...</td>\n",
       "      <td>NaN</td>\n",
       "      <td>NaN</td>\n",
       "      <td>NaN</td>\n",
       "      <td>NaN</td>\n",
       "      <td>NaN</td>\n",
       "      <td>NaN</td>\n",
       "      <td>NaN</td>\n",
       "      <td>NaN</td>\n",
       "      <td>NaN</td>\n",
       "      <td>NaN</td>\n",
       "    </tr>\n",
       "    <tr>\n",
       "      <th>3974</th>\n",
       "      <td>Chase Barrs</td>\n",
       "      <td>Florida A&amp;M</td>\n",
       "      <td>SWAC</td>\n",
       "      <td>14</td>\n",
       "      <td>11.0</td>\n",
       "      <td>85.1</td>\n",
       "      <td>8.8</td>\n",
       "      <td>42.9</td>\n",
       "      <td>40.61</td>\n",
       "      <td>5.4</td>\n",
       "      <td>...</td>\n",
       "      <td>NaN</td>\n",
       "      <td>NaN</td>\n",
       "      <td>NaN</td>\n",
       "      <td>NaN</td>\n",
       "      <td>NaN</td>\n",
       "      <td>NaN</td>\n",
       "      <td>NaN</td>\n",
       "      <td>NaN</td>\n",
       "      <td>NaN</td>\n",
       "      <td>NaN</td>\n",
       "    </tr>\n",
       "    <tr>\n",
       "      <th>3975</th>\n",
       "      <td>Hugo Clarkin</td>\n",
       "      <td>Sacramento St.</td>\n",
       "      <td>BSky</td>\n",
       "      <td>16</td>\n",
       "      <td>22.8</td>\n",
       "      <td>99.7</td>\n",
       "      <td>7.8</td>\n",
       "      <td>70.6</td>\n",
       "      <td>68.67</td>\n",
       "      <td>2.9</td>\n",
       "      <td>...</td>\n",
       "      <td>NaN</td>\n",
       "      <td>NaN</td>\n",
       "      <td>NaN</td>\n",
       "      <td>NaN</td>\n",
       "      <td>NaN</td>\n",
       "      <td>NaN</td>\n",
       "      <td>NaN</td>\n",
       "      <td>NaN</td>\n",
       "      <td>NaN</td>\n",
       "      <td>NaN</td>\n",
       "    </tr>\n",
       "    <tr>\n",
       "      <th>3976</th>\n",
       "      <td>James Graham III</td>\n",
       "      <td>Maryland</td>\n",
       "      <td>B10</td>\n",
       "      <td>7</td>\n",
       "      <td>1.8</td>\n",
       "      <td>9.4</td>\n",
       "      <td>17.1</td>\n",
       "      <td>0.0</td>\n",
       "      <td>0.00</td>\n",
       "      <td>0.0</td>\n",
       "      <td>...</td>\n",
       "      <td>NaN</td>\n",
       "      <td>NaN</td>\n",
       "      <td>NaN</td>\n",
       "      <td>NaN</td>\n",
       "      <td>NaN</td>\n",
       "      <td>NaN</td>\n",
       "      <td>NaN</td>\n",
       "      <td>NaN</td>\n",
       "      <td>NaN</td>\n",
       "      <td>NaN</td>\n",
       "    </tr>\n",
       "    <tr>\n",
       "      <th>3977</th>\n",
       "      <td>Zane Butler</td>\n",
       "      <td>SIU Edwardsville</td>\n",
       "      <td>OVC</td>\n",
       "      <td>12</td>\n",
       "      <td>7.0</td>\n",
       "      <td>84.8</td>\n",
       "      <td>10.6</td>\n",
       "      <td>35.0</td>\n",
       "      <td>41.10</td>\n",
       "      <td>5.2</td>\n",
       "      <td>...</td>\n",
       "      <td>NaN</td>\n",
       "      <td>NaN</td>\n",
       "      <td>NaN</td>\n",
       "      <td>NaN</td>\n",
       "      <td>NaN</td>\n",
       "      <td>NaN</td>\n",
       "      <td>NaN</td>\n",
       "      <td>NaN</td>\n",
       "      <td>NaN</td>\n",
       "      <td>NaN</td>\n",
       "    </tr>\n",
       "  </tbody>\n",
       "</table>\n",
       "<p>3978 rows × 66 columns</p>\n",
       "</div>"
      ],
      "text/plain": [
       "              player_name                team  conf  GP  Min_per   Ortg   usg  \\\n",
       "0           Isaiah Felder  South Carolina St.  MEAC  11     17.6   61.1  18.6   \n",
       "1     Jalen Coleman-Lands              Kansas   B12  23     78.5  103.1  21.5   \n",
       "2             K.J. Walton               Akron   MAC  20     63.0  108.6  26.5   \n",
       "3            Jeriah Horne               Tulsa  Amer  32     61.3  116.0  20.8   \n",
       "4              Eric Curry           Minnesota   B10  29     39.2   95.1  14.7   \n",
       "...                   ...                 ...   ...  ..      ...    ...   ...   \n",
       "3973          Aquan Smart                 FIU  CUSA  21     11.7   69.4  17.7   \n",
       "3974          Chase Barrs         Florida A&M  SWAC  14     11.0   85.1   8.8   \n",
       "3975         Hugo Clarkin      Sacramento St.  BSky  16     22.8   99.7   7.8   \n",
       "3976     James Graham III            Maryland   B10   7      1.8    9.4  17.1   \n",
       "3977          Zane Butler    SIU Edwardsville   OVC  12      7.0   84.8  10.6   \n",
       "\n",
       "       eFG  TS_per  ORB_per  ...     dgbpm    oreb    dreb    treb     ast  \\\n",
       "0     34.7   35.18      2.5  ... -4.412530  0.2727  1.4545  1.7273  0.4545   \n",
       "1     54.0   56.12      3.6  ... -1.019000  1.0435  2.8696  3.9130  1.1739   \n",
       "2     54.3   58.88      9.1  ... -0.335789  2.3500  3.5500  5.9000  1.1500   \n",
       "3     55.2   58.61      5.8  ...  1.721580  1.1250  4.7188  5.8438  0.9062   \n",
       "4     46.3   48.72      7.0  ...  2.746770  1.1034  1.9655  3.0690  0.8276   \n",
       "...    ...     ...      ...  ...       ...     ...     ...     ...     ...   \n",
       "3973  32.1   36.08      1.8  ...       NaN     NaN     NaN     NaN     NaN   \n",
       "3974  42.9   40.61      5.4  ...       NaN     NaN     NaN     NaN     NaN   \n",
       "3975  70.6   68.67      2.9  ...       NaN     NaN     NaN     NaN     NaN   \n",
       "3976   0.0    0.00      0.0  ...       NaN     NaN     NaN     NaN     NaN   \n",
       "3977  35.0   41.10      5.2  ...       NaN     NaN     NaN     NaN     NaN   \n",
       "\n",
       "         stl     blk      pts  Unnamed: 64  Unnamed: 65  \n",
       "0     0.1818  0.0000   2.3636       Wing G    12.226400  \n",
       "1     0.8261  0.0870  14.3043       Wing G    11.095900  \n",
       "2     1.2500  0.2000  16.3500       Wing G     0.284581  \n",
       "3     0.5938  0.0625  10.8125    Stretch 4    10.140700  \n",
       "4     0.8276  0.2414   3.6552       Wing F     2.562430  \n",
       "...      ...     ...      ...          ...          ...  \n",
       "3973     NaN     NaN      NaN          NaN          NaN  \n",
       "3974     NaN     NaN      NaN          NaN          NaN  \n",
       "3975     NaN     NaN      NaN          NaN          NaN  \n",
       "3976     NaN     NaN      NaN          NaN          NaN  \n",
       "3977     NaN     NaN      NaN          NaN          NaN  \n",
       "\n",
       "[3978 rows x 66 columns]"
      ]
     },
     "execution_count": 17,
     "metadata": {},
     "output_type": "execute_result"
    }
   ],
   "source": [
    "#loading in 2022 college players\n",
    "df_2022 = pd.read_csv('data/CollegeBasketballPlayers2022.csv')\n",
    "df_2022"
   ]
  },
  {
   "cell_type": "code",
   "execution_count": null,
   "metadata": {
    "ExecuteTime": {
     "start_time": "2022-04-22T17:33:08.592Z"
    },
    "vscode": {
     "languageId": "python"
    }
   },
   "outputs": [],
   "source": [
    "#looping through and applying round_prediction() function\n",
    "\n",
    "players_2022 = {'Player': [], 'predicted_class': []}\n",
    "\n",
    "for i in range(3978):\n",
    "    rec_rank = df_2022.iloc[i]['Rec Rank']\n",
    "    dbpm = df_2022.iloc[i]['dbpm']\n",
    "    obpm = df_2022.iloc[i]['obpm']\n",
    "    bpm = df_2022.iloc[i]['bpm']\n",
    "    stops = df_2022.iloc[i]['stops']\n",
    "    dporpag = df_2022.iloc[i]['dporpag']\n",
    "    porpag = df_2022.iloc[i]['porpag']\n",
    "    ftr = df_2022.iloc[i]['ftr']\n",
    "    stl_per = df_2022.iloc[i]['stl_per']\n",
    "    fta = df_2022.iloc[i]['FTA']\n",
    "    orb_per = df_2022.iloc[i]['ORB_per']\n",
    "    yr = df_2022.iloc[i]['yr']\n",
    "    team = df_2022.iloc[i]['team']\n",
    "    conference = df_2022.iloc[i]['conf']\n",
    "    name = df_2022.iloc[i]['player_name']\n",
    "\n",
    "    dct = round_prediction(name, rec_rank, dbpm, obpm, bpm, stops, dporpag, porpag, ftr, stl_per, fta, orb_per, yr, team, conference)\n",
    "    players_2022['Player'].append(dct['Player'])\n",
    "    players_2022['predicted_class'].append(dct['predicted_class'])"
   ]
  },
  {
   "cell_type": "code",
   "execution_count": 67,
   "metadata": {
    "vscode": {
     "languageId": "python"
    }
   },
   "outputs": [],
   "source": [
    "#convert dict to df\n",
    "df_predict = pd.DataFrame(players_2022)"
   ]
  }
 ],
 "metadata": {
  "interpreter": {
   "hash": "a360a2f264b66615f9d66a066cdfd87f876b0e73984abcaa81a272014365b685"
  },
  "kernelspec": {
   "display_name": "Python (learn-env)",
   "language": "python",
   "name": "learn-env"
  },
  "toc": {
   "base_numbering": 1,
   "nav_menu": {},
   "number_sections": true,
   "sideBar": true,
   "skip_h1_title": false,
   "title_cell": "Table of Contents",
   "title_sidebar": "Contents",
   "toc_cell": false,
   "toc_position": {},
   "toc_section_display": true,
   "toc_window_display": false
  },
  "varInspector": {
   "cols": {
    "lenName": 16,
    "lenType": 16,
    "lenVar": 40
   },
   "kernels_config": {
    "python": {
     "delete_cmd_postfix": "",
     "delete_cmd_prefix": "del ",
     "library": "var_list.py",
     "varRefreshCmd": "print(var_dic_list())"
    },
    "r": {
     "delete_cmd_postfix": ") ",
     "delete_cmd_prefix": "rm(",
     "library": "var_list.r",
     "varRefreshCmd": "cat(var_dic_list()) "
    }
   },
   "types_to_exclude": [
    "module",
    "function",
    "builtin_function_or_method",
    "instance",
    "_Feature"
   ],
   "window_display": false
  }
 },
 "nbformat": 4,
 "nbformat_minor": 2
}
